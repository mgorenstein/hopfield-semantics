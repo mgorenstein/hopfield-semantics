{
 "cells": [
  {
   "cell_type": "code",
   "execution_count": 2,
   "metadata": {},
   "outputs": [],
   "source": [
    "import pickle # used for serializing data"
   ]
  },
  {
   "cell_type": "code",
   "execution_count": 3,
   "metadata": {},
   "outputs": [],
   "source": [
    "# get ze data\n",
    "with open('vector_dict.pickle', 'rb') as fi:\n",
    "    data = pickle.load(fi)"
   ]
  },
  {
   "cell_type": "code",
   "execution_count": 4,
   "metadata": {},
   "outputs": [
    {
     "name": "stdout",
     "output_type": "stream",
     "text": [
      "dict_keys(['animal', 'machine', 'person', 'game', 'fruit', 'vegetable', 'clothing'])\n"
     ]
    }
   ],
   "source": [
    "'''\n",
    "Data is a dictionary-- the basic structure is key:value,\n",
    "'''\n",
    "print(data.keys())"
   ]
  },
  {
   "cell_type": "code",
   "execution_count": 5,
   "metadata": {},
   "outputs": [
    {
     "name": "stdout",
     "output_type": "stream",
     "text": [
      "dict_keys(['hyponym_vectors', 'category_vector'])\n"
     ]
    }
   ],
   "source": [
    "'''\n",
    "Let's look at a single key, which has another dictionary as its value,\n",
    "where hyponym_vectors are all of the objects in a given category,\n",
    "'cat', 'zebrafinch', etc and category_vector is the vector of the category\n",
    "word, e.g. 'animal'\n",
    "'''\n",
    "\n",
    "print(data['animal'].keys())"
   ]
  },
  {
   "cell_type": "code",
   "execution_count": 6,
   "metadata": {},
   "outputs": [
    {
     "name": "stdout",
     "output_type": "stream",
     "text": [
      "['plover', 'turkey', 'hoopoe', 'egger', 'pug', 'marlin', 'echinoderm', 'titanosaur', 'Exmoor', 'sandfly', 'cockatoo', 'wapiti', 'guanaco', 'redstart', 'krait', 'cowry', 'auk', 'boxfish', 'triggerfish', 'nudibranch']\n"
     ]
    }
   ],
   "source": [
    "# Some of the animal keys\n",
    "print(list(data['animal']['hyponym_vectors'].keys())[:20])"
   ]
  },
  {
   "cell_type": "code",
   "execution_count": 7,
   "metadata": {},
   "outputs": [
    {
     "data": {
      "text/plain": [
       "array([-1.,  1.,  1., ...,  1.,  1., -1.], dtype=float32)"
      ]
     },
     "execution_count": 7,
     "metadata": {},
     "output_type": "execute_result"
    }
   ],
   "source": [
    "# get the turkey vector !!\n",
    "data['animal']['hyponym_vectors']['turkey']"
   ]
  },
  {
   "cell_type": "code",
   "execution_count": 11,
   "metadata": {},
   "outputs": [],
   "source": [
    "# example of how to iterate over all of the items in a category\n",
    "for name, vector in data['animal']['hyponym_vectors'].items():\n",
    "    continue"
   ]
  }
 ],
 "metadata": {
  "kernelspec": {
   "display_name": "Python 3",
   "language": "python",
   "name": "python3"
  },
  "language_info": {
   "codemirror_mode": {
    "name": "ipython",
    "version": 3
   },
   "file_extension": ".py",
   "mimetype": "text/x-python",
   "name": "python",
   "nbconvert_exporter": "python",
   "pygments_lexer": "ipython3",
   "version": "3.7.0"
  }
 },
 "nbformat": 4,
 "nbformat_minor": 2
}
